{
 "cells": [
  {
   "cell_type": "code",
   "execution_count": 20,
   "metadata": {
    "ExecuteTime": {
     "end_time": "2021-06-15T07:51:05.489609Z",
     "start_time": "2021-06-15T07:51:05.486410Z"
    }
   },
   "outputs": [],
   "source": [
    "import json\n",
    "import pandas as pd\n",
    "import seaborn as sns\n",
    "import matplotlib.pyplot as plt\n",
    "import warnings\n",
    "warnings.filterwarnings(\"ignore\") "
   ]
  },
  {
   "cell_type": "code",
   "execution_count": 21,
   "metadata": {
    "ExecuteTime": {
     "end_time": "2021-06-15T07:51:10.186402Z",
     "start_time": "2021-06-15T07:51:05.493036Z"
    }
   },
   "outputs": [
    {
     "name": "stdout",
     "output_type": "stream",
     "text": [
      "Requirement already satisfied: tensorflow in /home/amol/Amol/Python/venv/lib/python3.8/site-packages (2.5.0)\n",
      "Requirement already satisfied: typing-extensions~=3.7.4 in /home/amol/Amol/Python/venv/lib/python3.8/site-packages (from tensorflow) (3.7.4.3)\n",
      "Requirement already satisfied: wheel~=0.35 in /home/amol/Amol/Python/venv/lib/python3.8/site-packages (from tensorflow) (0.36.2)\n",
      "Requirement already satisfied: astunparse~=1.6.3 in /home/amol/Amol/Python/venv/lib/python3.8/site-packages (from tensorflow) (1.6.3)\n",
      "Requirement already satisfied: absl-py~=0.10 in /home/amol/Amol/Python/venv/lib/python3.8/site-packages (from tensorflow) (0.13.0)\n",
      "Requirement already satisfied: wrapt~=1.12.1 in /home/amol/Amol/Python/venv/lib/python3.8/site-packages (from tensorflow) (1.12.1)\n",
      "Requirement already satisfied: google-pasta~=0.2 in /home/amol/Amol/Python/venv/lib/python3.8/site-packages (from tensorflow) (0.2.0)\n",
      "Requirement already satisfied: flatbuffers~=1.12.0 in /home/amol/Amol/Python/venv/lib/python3.8/site-packages (from tensorflow) (1.12)\n",
      "Requirement already satisfied: numpy~=1.19.2 in /home/amol/Amol/Python/venv/lib/python3.8/site-packages (from tensorflow) (1.19.5)\n",
      "Requirement already satisfied: keras-preprocessing~=1.1.2 in /home/amol/Amol/Python/venv/lib/python3.8/site-packages (from tensorflow) (1.1.2)\n",
      "Requirement already satisfied: tensorboard~=2.5 in /home/amol/Amol/Python/venv/lib/python3.8/site-packages (from tensorflow) (2.5.0)\n",
      "Requirement already satisfied: grpcio~=1.34.0 in /home/amol/Amol/Python/venv/lib/python3.8/site-packages (from tensorflow) (1.34.1)\n",
      "Requirement already satisfied: termcolor~=1.1.0 in /home/amol/Amol/Python/venv/lib/python3.8/site-packages (from tensorflow) (1.1.0)\n",
      "Requirement already satisfied: protobuf>=3.9.2 in /home/amol/Amol/Python/venv/lib/python3.8/site-packages (from tensorflow) (3.17.3)\n",
      "Requirement already satisfied: gast==0.4.0 in /home/amol/Amol/Python/venv/lib/python3.8/site-packages (from tensorflow) (0.4.0)\n",
      "Requirement already satisfied: keras-nightly~=2.5.0.dev in /home/amol/Amol/Python/venv/lib/python3.8/site-packages (from tensorflow) (2.5.0.dev2021032900)\n",
      "Requirement already satisfied: six~=1.15.0 in /home/amol/Amol/Python/venv/lib/python3.8/site-packages (from tensorflow) (1.15.0)\n",
      "Requirement already satisfied: opt-einsum~=3.3.0 in /home/amol/Amol/Python/venv/lib/python3.8/site-packages (from tensorflow) (3.3.0)\n",
      "Requirement already satisfied: h5py~=3.1.0 in /home/amol/Amol/Python/venv/lib/python3.8/site-packages (from tensorflow) (3.1.0)\n",
      "Requirement already satisfied: tensorflow-estimator<2.6.0,>=2.5.0rc0 in /home/amol/Amol/Python/venv/lib/python3.8/site-packages (from tensorflow) (2.5.0)\n",
      "Requirement already satisfied: requests<3,>=2.21.0 in /home/amol/Amol/Python/venv/lib/python3.8/site-packages (from tensorboard~=2.5->tensorflow) (2.25.1)\n",
      "Requirement already satisfied: google-auth-oauthlib<0.5,>=0.4.1 in /home/amol/Amol/Python/venv/lib/python3.8/site-packages (from tensorboard~=2.5->tensorflow) (0.4.4)\n",
      "Requirement already satisfied: setuptools>=41.0.0 in /home/amol/Amol/Python/venv/lib/python3.8/site-packages (from tensorboard~=2.5->tensorflow) (44.0.0)\n",
      "Requirement already satisfied: tensorboard-data-server<0.7.0,>=0.6.0 in /home/amol/Amol/Python/venv/lib/python3.8/site-packages (from tensorboard~=2.5->tensorflow) (0.6.1)\n",
      "Requirement already satisfied: markdown>=2.6.8 in /home/amol/Amol/Python/venv/lib/python3.8/site-packages (from tensorboard~=2.5->tensorflow) (3.3.4)\n",
      "Requirement already satisfied: google-auth<2,>=1.6.3 in /home/amol/Amol/Python/venv/lib/python3.8/site-packages (from tensorboard~=2.5->tensorflow) (1.31.0)\n",
      "Requirement already satisfied: werkzeug>=0.11.15 in /home/amol/Amol/Python/venv/lib/python3.8/site-packages (from tensorboard~=2.5->tensorflow) (2.0.0)\n",
      "Requirement already satisfied: tensorboard-plugin-wit>=1.6.0 in /home/amol/Amol/Python/venv/lib/python3.8/site-packages (from tensorboard~=2.5->tensorflow) (1.8.0)\n",
      "Requirement already satisfied: idna<3,>=2.5 in /home/amol/Amol/Python/venv/lib/python3.8/site-packages (from requests<3,>=2.21.0->tensorboard~=2.5->tensorflow) (2.10)\n",
      "Requirement already satisfied: urllib3<1.27,>=1.21.1 in /home/amol/Amol/Python/venv/lib/python3.8/site-packages (from requests<3,>=2.21.0->tensorboard~=2.5->tensorflow) (1.26.2)\n",
      "Requirement already satisfied: certifi>=2017.4.17 in /home/amol/Amol/Python/venv/lib/python3.8/site-packages (from requests<3,>=2.21.0->tensorboard~=2.5->tensorflow) (2020.12.5)\n",
      "Requirement already satisfied: chardet<5,>=3.0.2 in /home/amol/Amol/Python/venv/lib/python3.8/site-packages (from requests<3,>=2.21.0->tensorboard~=2.5->tensorflow) (4.0.0)\n",
      "Requirement already satisfied: requests-oauthlib>=0.7.0 in /home/amol/Amol/Python/venv/lib/python3.8/site-packages (from google-auth-oauthlib<0.5,>=0.4.1->tensorboard~=2.5->tensorflow) (1.3.0)\n",
      "Requirement already satisfied: rsa<5,>=3.1.4; python_version >= \"3.6\" in /home/amol/Amol/Python/venv/lib/python3.8/site-packages (from google-auth<2,>=1.6.3->tensorboard~=2.5->tensorflow) (4.7.2)\n",
      "Requirement already satisfied: cachetools<5.0,>=2.0.0 in /home/amol/Amol/Python/venv/lib/python3.8/site-packages (from google-auth<2,>=1.6.3->tensorboard~=2.5->tensorflow) (4.2.2)\n",
      "Requirement already satisfied: pyasn1-modules>=0.2.1 in /home/amol/Amol/Python/venv/lib/python3.8/site-packages (from google-auth<2,>=1.6.3->tensorboard~=2.5->tensorflow) (0.2.8)\n",
      "Requirement already satisfied: oauthlib>=3.0.0 in /home/amol/Amol/Python/venv/lib/python3.8/site-packages (from requests-oauthlib>=0.7.0->google-auth-oauthlib<0.5,>=0.4.1->tensorboard~=2.5->tensorflow) (3.1.1)\n",
      "Requirement already satisfied: pyasn1>=0.1.3 in /home/amol/Amol/Python/venv/lib/python3.8/site-packages (from rsa<5,>=3.1.4; python_version >= \"3.6\"->google-auth<2,>=1.6.3->tensorboard~=2.5->tensorflow) (0.4.8)\n"
     ]
    }
   ],
   "source": [
    "!pip install tensorflow"
   ]
  },
  {
   "cell_type": "markdown",
   "metadata": {},
   "source": [
    "<b>Import Data from json file</b>\n",
    "First open and read the file"
   ]
  },
  {
   "cell_type": "code",
   "execution_count": 22,
   "metadata": {
    "ExecuteTime": {
     "end_time": "2021-06-15T07:51:10.197624Z",
     "start_time": "2021-06-15T07:51:10.191941Z"
    }
   },
   "outputs": [],
   "source": [
    "json_file = open(\"countries-aggregated_json.json\", 'r')"
   ]
  },
  {
   "cell_type": "code",
   "execution_count": 23,
   "metadata": {
    "ExecuteTime": {
     "end_time": "2021-06-15T07:51:10.608361Z",
     "start_time": "2021-06-15T07:51:10.200486Z"
    }
   },
   "outputs": [],
   "source": [
    "jsondata = json_file.read()"
   ]
  },
  {
   "cell_type": "code",
   "execution_count": 24,
   "metadata": {
    "ExecuteTime": {
     "end_time": "2021-06-15T07:51:10.687433Z",
     "start_time": "2021-06-15T07:51:10.610369Z"
    }
   },
   "outputs": [
    {
     "data": {
      "text/plain": [
       "'[{\"Confirmed\": 0, \"Country\": \"Afghanistan\", \"Date\": \"2020-01-22\", \"Deaths\": 0, \"Recovered\": 0},{\"Confirmed\": 0, \"Country\": \"Afghanistan\", \"Date\": \"2020-01-23\", \"Deaths\": 0, \"Recovered\": 0},{\"Confirmed\": 0, \"Country\": \"Afghanistan\", \"Date\": \"2020-01-24\", \"Deaths\": 0, \"Recovered\": 0},{\"Confirmed\": 0, \"Country\": \"Afghanistan\", \"Date\": \"2020-01-25\", \"Deaths\": 0, \"Recovered\": 0},{\"Confirmed\": 0, \"Country\": \"Afghanistan\", \"Date\": \"2020-01-26\", \"Deaths\": 0, \"Recovered\": 0},{\"Confirmed\": 0, \"Country\": \"'"
      ]
     },
     "execution_count": 24,
     "metadata": {},
     "output_type": "execute_result"
    }
   ],
   "source": [
    "jsondata[:500]"
   ]
  },
  {
   "cell_type": "markdown",
   "metadata": {},
   "source": [
    "The data is in string format. so we need to parse this data using json library to convert it into json format."
   ]
  },
  {
   "cell_type": "code",
   "execution_count": 25,
   "metadata": {
    "ExecuteTime": {
     "end_time": "2021-06-15T07:51:11.124665Z",
     "start_time": "2021-06-15T07:51:10.689768Z"
    }
   },
   "outputs": [],
   "source": [
    "# parse the file that we opened and read, as it is in string format\n",
    "json_obj = json.loads(jsondata)"
   ]
  },
  {
   "cell_type": "code",
   "execution_count": 26,
   "metadata": {
    "ExecuteTime": {
     "end_time": "2021-06-15T07:51:11.274815Z",
     "start_time": "2021-06-15T07:51:11.126266Z"
    }
   },
   "outputs": [
    {
     "name": "stdout",
     "output_type": "stream",
     "text": [
      "Number of records : 86400\n"
     ]
    }
   ],
   "source": [
    "print('Number of records :', len(json_obj))"
   ]
  },
  {
   "cell_type": "markdown",
   "metadata": {},
   "source": [
    "Covid-19 cases details for many countries are present in the dataset."
   ]
  },
  {
   "cell_type": "markdown",
   "metadata": {},
   "source": [
    "<b>Extract the details of covid cases of india and store it.</b>  \n",
    "The records for india is present from index 35550 till 35999."
   ]
  },
  {
   "cell_type": "code",
   "execution_count": 27,
   "metadata": {
    "ExecuteTime": {
     "end_time": "2021-06-15T07:51:11.396235Z",
     "start_time": "2021-06-15T07:51:11.277055Z"
    }
   },
   "outputs": [],
   "source": [
    "india_covid_record = json_obj[35550:35999]"
   ]
  },
  {
   "cell_type": "code",
   "execution_count": 28,
   "metadata": {
    "ExecuteTime": {
     "end_time": "2021-06-15T07:51:11.518849Z",
     "start_time": "2021-06-15T07:51:11.401232Z"
    }
   },
   "outputs": [],
   "source": [
    "date_of_record = []\n",
    "confirmed = []\n",
    "deaths = []\n",
    "recovered = []\n",
    "\n",
    "for i in range(len(india_covid_record)):\n",
    "    date_of_record.append(india_covid_record[i]['Date'])\n",
    "    confirmed.append(india_covid_record[i]['Confirmed'])\n",
    "    deaths.append(india_covid_record[i]['Deaths'])\n",
    "    recovered.append(india_covid_record[i]['Recovered'])"
   ]
  },
  {
   "cell_type": "code",
   "execution_count": 29,
   "metadata": {
    "ExecuteTime": {
     "end_time": "2021-06-15T07:51:11.675448Z",
     "start_time": "2021-06-15T07:51:11.521130Z"
    }
   },
   "outputs": [],
   "source": [
    "df_india = pd.DataFrame({'date_of_record':date_of_record, 'confirmed':confirmed, 'deaths':deaths, 'recovered':recovered})"
   ]
  },
  {
   "cell_type": "code",
   "execution_count": 30,
   "metadata": {
    "ExecuteTime": {
     "end_time": "2021-06-15T07:51:11.819493Z",
     "start_time": "2021-06-15T07:51:11.677149Z"
    }
   },
   "outputs": [
    {
     "data": {
      "text/html": [
       "<div>\n",
       "<style scoped>\n",
       "    .dataframe tbody tr th:only-of-type {\n",
       "        vertical-align: middle;\n",
       "    }\n",
       "\n",
       "    .dataframe tbody tr th {\n",
       "        vertical-align: top;\n",
       "    }\n",
       "\n",
       "    .dataframe thead th {\n",
       "        text-align: right;\n",
       "    }\n",
       "</style>\n",
       "<table border=\"1\" class=\"dataframe\">\n",
       "  <thead>\n",
       "    <tr style=\"text-align: right;\">\n",
       "      <th></th>\n",
       "      <th>date_of_record</th>\n",
       "      <th>confirmed</th>\n",
       "      <th>deaths</th>\n",
       "      <th>recovered</th>\n",
       "    </tr>\n",
       "  </thead>\n",
       "  <tbody>\n",
       "    <tr>\n",
       "      <th>0</th>\n",
       "      <td>2020-01-22</td>\n",
       "      <td>0</td>\n",
       "      <td>0</td>\n",
       "      <td>0</td>\n",
       "    </tr>\n",
       "    <tr>\n",
       "      <th>1</th>\n",
       "      <td>2020-01-23</td>\n",
       "      <td>0</td>\n",
       "      <td>0</td>\n",
       "      <td>0</td>\n",
       "    </tr>\n",
       "    <tr>\n",
       "      <th>2</th>\n",
       "      <td>2020-01-24</td>\n",
       "      <td>0</td>\n",
       "      <td>0</td>\n",
       "      <td>0</td>\n",
       "    </tr>\n",
       "    <tr>\n",
       "      <th>3</th>\n",
       "      <td>2020-01-25</td>\n",
       "      <td>0</td>\n",
       "      <td>0</td>\n",
       "      <td>0</td>\n",
       "    </tr>\n",
       "    <tr>\n",
       "      <th>4</th>\n",
       "      <td>2020-01-26</td>\n",
       "      <td>0</td>\n",
       "      <td>0</td>\n",
       "      <td>0</td>\n",
       "    </tr>\n",
       "    <tr>\n",
       "      <th>...</th>\n",
       "      <td>...</td>\n",
       "      <td>...</td>\n",
       "      <td>...</td>\n",
       "      <td>...</td>\n",
       "    </tr>\n",
       "    <tr>\n",
       "      <th>444</th>\n",
       "      <td>2021-04-10</td>\n",
       "      <td>13358805</td>\n",
       "      <td>169275</td>\n",
       "      <td>12081443</td>\n",
       "    </tr>\n",
       "    <tr>\n",
       "      <th>445</th>\n",
       "      <td>2021-04-11</td>\n",
       "      <td>13527717</td>\n",
       "      <td>170179</td>\n",
       "      <td>12156529</td>\n",
       "    </tr>\n",
       "    <tr>\n",
       "      <th>446</th>\n",
       "      <td>2021-04-12</td>\n",
       "      <td>13689453</td>\n",
       "      <td>171058</td>\n",
       "      <td>12253697</td>\n",
       "    </tr>\n",
       "    <tr>\n",
       "      <th>447</th>\n",
       "      <td>2021-04-13</td>\n",
       "      <td>13873825</td>\n",
       "      <td>172085</td>\n",
       "      <td>12336036</td>\n",
       "    </tr>\n",
       "    <tr>\n",
       "      <th>448</th>\n",
       "      <td>2021-04-14</td>\n",
       "      <td>14074564</td>\n",
       "      <td>173123</td>\n",
       "      <td>12429564</td>\n",
       "    </tr>\n",
       "  </tbody>\n",
       "</table>\n",
       "<p>449 rows × 4 columns</p>\n",
       "</div>"
      ],
      "text/plain": [
       "    date_of_record  confirmed  deaths  recovered\n",
       "0       2020-01-22          0       0          0\n",
       "1       2020-01-23          0       0          0\n",
       "2       2020-01-24          0       0          0\n",
       "3       2020-01-25          0       0          0\n",
       "4       2020-01-26          0       0          0\n",
       "..             ...        ...     ...        ...\n",
       "444     2021-04-10   13358805  169275   12081443\n",
       "445     2021-04-11   13527717  170179   12156529\n",
       "446     2021-04-12   13689453  171058   12253697\n",
       "447     2021-04-13   13873825  172085   12336036\n",
       "448     2021-04-14   14074564  173123   12429564\n",
       "\n",
       "[449 rows x 4 columns]"
      ]
     },
     "execution_count": 30,
     "metadata": {},
     "output_type": "execute_result"
    }
   ],
   "source": [
    "df_india"
   ]
  },
  {
   "cell_type": "code",
   "execution_count": 31,
   "metadata": {
    "ExecuteTime": {
     "end_time": "2021-06-15T07:51:11.990066Z",
     "start_time": "2021-06-15T07:51:11.821726Z"
    }
   },
   "outputs": [
    {
     "data": {
      "text/html": [
       "<div>\n",
       "<style scoped>\n",
       "    .dataframe tbody tr th:only-of-type {\n",
       "        vertical-align: middle;\n",
       "    }\n",
       "\n",
       "    .dataframe tbody tr th {\n",
       "        vertical-align: top;\n",
       "    }\n",
       "\n",
       "    .dataframe thead th {\n",
       "        text-align: right;\n",
       "    }\n",
       "</style>\n",
       "<table border=\"1\" class=\"dataframe\">\n",
       "  <thead>\n",
       "    <tr style=\"text-align: right;\">\n",
       "      <th></th>\n",
       "      <th>confirmed</th>\n",
       "      <th>deaths</th>\n",
       "      <th>recovered</th>\n",
       "    </tr>\n",
       "  </thead>\n",
       "  <tbody>\n",
       "    <tr>\n",
       "      <th>count</th>\n",
       "      <td>4.490000e+02</td>\n",
       "      <td>449.000000</td>\n",
       "      <td>4.490000e+02</td>\n",
       "    </tr>\n",
       "    <tr>\n",
       "      <th>mean</th>\n",
       "      <td>5.028102e+06</td>\n",
       "      <td>74691.612472</td>\n",
       "      <td>4.620825e+06</td>\n",
       "    </tr>\n",
       "    <tr>\n",
       "      <th>std</th>\n",
       "      <td>4.756932e+06</td>\n",
       "      <td>65754.522768</td>\n",
       "      <td>4.574520e+06</td>\n",
       "    </tr>\n",
       "    <tr>\n",
       "      <th>min</th>\n",
       "      <td>0.000000e+00</td>\n",
       "      <td>0.000000</td>\n",
       "      <td>0.000000e+00</td>\n",
       "    </tr>\n",
       "    <tr>\n",
       "      <th>25%</th>\n",
       "      <td>7.805500e+04</td>\n",
       "      <td>2551.000000</td>\n",
       "      <td>2.640000e+04</td>\n",
       "    </tr>\n",
       "    <tr>\n",
       "      <th>50%</th>\n",
       "      <td>3.853406e+06</td>\n",
       "      <td>67376.000000</td>\n",
       "      <td>2.970492e+06</td>\n",
       "    </tr>\n",
       "    <tr>\n",
       "      <th>75%</th>\n",
       "      <td>1.012378e+07</td>\n",
       "      <td>146756.000000</td>\n",
       "      <td>9.693173e+06</td>\n",
       "    </tr>\n",
       "    <tr>\n",
       "      <th>max</th>\n",
       "      <td>1.407456e+07</td>\n",
       "      <td>173123.000000</td>\n",
       "      <td>1.242956e+07</td>\n",
       "    </tr>\n",
       "  </tbody>\n",
       "</table>\n",
       "</div>"
      ],
      "text/plain": [
       "          confirmed         deaths     recovered\n",
       "count  4.490000e+02     449.000000  4.490000e+02\n",
       "mean   5.028102e+06   74691.612472  4.620825e+06\n",
       "std    4.756932e+06   65754.522768  4.574520e+06\n",
       "min    0.000000e+00       0.000000  0.000000e+00\n",
       "25%    7.805500e+04    2551.000000  2.640000e+04\n",
       "50%    3.853406e+06   67376.000000  2.970492e+06\n",
       "75%    1.012378e+07  146756.000000  9.693173e+06\n",
       "max    1.407456e+07  173123.000000  1.242956e+07"
      ]
     },
     "execution_count": 31,
     "metadata": {},
     "output_type": "execute_result"
    }
   ],
   "source": [
    "df_india.describe()"
   ]
  },
  {
   "cell_type": "markdown",
   "metadata": {},
   "source": [
    "<b> Check for missing values</b>"
   ]
  },
  {
   "cell_type": "code",
   "execution_count": 32,
   "metadata": {
    "ExecuteTime": {
     "end_time": "2021-06-15T07:51:12.123783Z",
     "start_time": "2021-06-15T07:51:11.992308Z"
    }
   },
   "outputs": [
    {
     "data": {
      "text/plain": [
       "date_of_record    0\n",
       "confirmed         0\n",
       "deaths            0\n",
       "recovered         0\n",
       "dtype: int64"
      ]
     },
     "execution_count": 32,
     "metadata": {},
     "output_type": "execute_result"
    }
   ],
   "source": [
    "df_india.isnull().sum()"
   ]
  },
  {
   "cell_type": "markdown",
   "metadata": {},
   "source": [
    "No missing values present, Thus we can continue."
   ]
  },
  {
   "cell_type": "markdown",
   "metadata": {},
   "source": [
    "<b> Find Daily Active cases</b>"
   ]
  },
  {
   "cell_type": "code",
   "execution_count": 33,
   "metadata": {
    "ExecuteTime": {
     "end_time": "2021-06-15T07:51:12.326483Z",
     "start_time": "2021-06-15T07:51:12.126329Z"
    }
   },
   "outputs": [],
   "source": [
    "df_india['active_cases'] = df_india.confirmed-df_india.recovered"
   ]
  },
  {
   "cell_type": "code",
   "execution_count": 34,
   "metadata": {
    "ExecuteTime": {
     "end_time": "2021-06-15T07:51:14.617151Z",
     "start_time": "2021-06-15T07:51:12.328328Z"
    },
    "scrolled": false
   },
   "outputs": [
    {
     "data": {
      "image/png": "[encoded data removed]",
      "text/plain": [
       "<Figure size 1296x576 with 1 Axes>"
      ]
     },
     "metadata": {
      "needs_background": "light"
     },
     "output_type": "display_data"
    }
   ],
   "source": [
    "plt.figure(figsize=(18,8))\n",
    "plt.plot(df_india.date_of_record,df_india.confirmed, color = 'blue', label = 'Confirmed ')\n",
    "plt.plot(df_india.date_of_record,df_india.deaths, color = 'red', label = 'Deaths')\n",
    "plt.plot(df_india.date_of_record,df_india.recovered, color = 'green', label = 'Recovered')\n",
    "plt.plot(df_india.date_of_record,df_india.active_cases, color = 'black', label = 'Active Cases')\n",
    "\n",
    "plt.title('Coronavirus cases in India', fontsize = 18)\n",
    "plt.xlabel('Date', fontsize = 12)\n",
    "plt.ylabel('Cases in million (x 10^7)', fontsize = 12)\n",
    "\n",
    "# only print every 28 x-ticks as there are around 450 xticks which will over crowd the x axis \n",
    "plt.xticks([df_india.date_of_record[i] if (i%28 == 0) else '' for i in range(len(df_india.date_of_record)) ])\n",
    "plt.xticks(rotation = 30)\n",
    "plt.legend(fontsize = 14)\n",
    "plt.grid()\n",
    "plt.show()"
   ]
  },
  {
   "cell_type": "markdown",
   "metadata": {},
   "source": [
    "The above plots shows the Confirmed, Recovered, Active & Deaths due to corona virus. The graph shows that in april 2021 there is a sudden spike in the number of cases due to second wave."
   ]
  },
  {
   "cell_type": "markdown",
   "metadata": {},
   "source": [
    "<b>Active Cases</b>"
   ]
  },
  {
   "cell_type": "code",
   "execution_count": 35,
   "metadata": {
    "ExecuteTime": {
     "end_time": "2021-06-15T07:51:16.412661Z",
     "start_time": "2021-06-15T07:51:14.620122Z"
    }
   },
   "outputs": [
    {
     "data": {
      "image/png": "[encoded data removed]",
      "text/plain": [
       "<Figure size 1296x432 with 1 Axes>"
      ]
     },
     "metadata": {
      "needs_background": "light"
     },
     "output_type": "display_data"
    }
   ],
   "source": [
    "plt.figure(figsize=(18,6))\n",
    "plt.plot(df_india.date_of_record,df_india.confirmed-df_india.recovered, color = 'black', label = 'Active Cases')\n",
    "plt.xticks([df_india.date_of_record[i] if (i%28 == 0) else '' for i in range(len(df_india.date_of_record)) ])\n",
    "plt.xticks(rotation = 30) \n",
    "\n",
    "plt.title('First and Second Wave peak active cases comparison', fontsize = 18)\n",
    "plt.xlabel('Date',fontsize = 12)\n",
    "plt.ylabel('Active Cases', fontsize = 12)\n",
    "\n",
    "# Find the peak active case during the First wave and plot a vertical line for it\n",
    "# the first wave ended within 400 days, so find the peak of first wave withing 400 range\n",
    "plt.vlines(((df_india.active_cases)[:400]).idxmax(),0,((df_india.active_cases)[:400]).max(),\n",
    "           color='blue',label='First  wave  peak   :  11,02,126',linestyles='dashed')\n",
    "\n",
    "# Find the peak active case during the First wave and plot a vertical line for it\n",
    "# Take entire data to find the peak for second wave, so there is no need to define intervals\n",
    "plt.vlines(((df_india.active_cases)).idxmax(),0,((df_india.active_cases)).max(),color='red',\n",
    "           label='Second wave peak : 16,45,000',linestyles='dashed')\n",
    "plt.legend(fontsize = 14)\n",
    "plt.show()"
   ]
  },
  {
   "cell_type": "markdown",
   "metadata": {},
   "source": [
    "This plot clearly shows the comparison between first wave & second wave . The peak active cases of second wave is already more than 1.5 time of the peak active case observed during the first wave."
   ]
  },
  {
   "cell_type": "markdown",
   "metadata": {},
   "source": [
    "<b>Fatality rate over time</b>"
   ]
  },
  {
   "cell_type": "code",
   "execution_count": 36,
   "metadata": {
    "ExecuteTime": {
     "end_time": "2021-06-15T07:51:18.064690Z",
     "start_time": "2021-06-15T07:51:16.416960Z"
    }
   },
   "outputs": [
    {
     "data": {
      "image/png": "[encoded data removed]",
      "text/plain": [
       "<Figure size 1296x432 with 1 Axes>"
      ]
     },
     "metadata": {
      "needs_background": "light"
     },
     "output_type": "display_data"
    }
   ],
   "source": [
    "plt.figure(figsize = (18,6))\n",
    "\n",
    "fatality_rate = ((df_india.deaths/df_india.confirmed)).fillna(0)*100\n",
    "plt.plot(df_india.date_of_record,fatality_rate, label = 'Fatality Rate')\n",
    "\n",
    "plt.title('Fatality Rate', fontsize = 18)\n",
    "plt.xlabel('Date',fontsize = 12)\n",
    "plt.ylabel('Fatality Rate', fontsize = 12)\n",
    "\n",
    "plt.xticks([df_india.date_of_record[i] if (i%28 == 0) else '' for i in range(len(df_india.date_of_record)) ])\n",
    "plt.xticks(rotation = 30) # rotate the x axis ticks by 30 degree\n",
    "\n",
    "# Mean of Fatality rate since first death\n",
    "mean_fatality_rate = round(fatality_rate[49:].mean(),3)\n",
    "\n",
    "# plot a horizontal line for mean fatality rate\n",
    "plt.hlines(mean_fatality_rate,0,450,label='Mean Fatality Rate :1.98%',linestyles='dashed')\n",
    "\n",
    "plt.legend(fontsize = 12)\n",
    "plt.show()"
   ]
  },
  {
   "cell_type": "markdown",
   "metadata": {},
   "source": [
    "The overall fatality rate is around 1.98% and it seems to be declining. (Initially it was 0 because of no covid related deaths.)"
   ]
  },
  {
   "cell_type": "code",
   "execution_count": 37,
   "metadata": {
    "ExecuteTime": {
     "end_time": "2021-06-15T07:51:20.234877Z",
     "start_time": "2021-06-15T07:51:18.066932Z"
    }
   },
   "outputs": [],
   "source": [
    "from tensorflow.keras.models import Sequential\n",
    "from tensorflow.keras.layers import LSTM\n",
    "from tensorflow.keras.layers import Dense\n",
    "from tensorflow.keras.layers import Flatten"
   ]
  },
  {
   "cell_type": "code",
   "execution_count": 38,
   "metadata": {
    "ExecuteTime": {
     "end_time": "2021-06-15T07:51:20.244375Z",
     "start_time": "2021-06-15T07:51:20.236867Z"
    }
   },
   "outputs": [],
   "source": [
    "\n",
    "\n",
    "def prepare_data(timeseries_data, n_features):\n",
    "    X, y =[],[]\n",
    "    for i in range(len(timeseries_data)):\n",
    "        # find the end of pattern\n",
    "        end_ix = i + n_features\n",
    "        # check if we are beyond the sequence\n",
    "        if end_ix > len(timeseries_data)-1:\n",
    "            break\n",
    "        # gather input and output parts of the pattern\n",
    "        seq_x, seq_y = timeseries_data[i:end_ix], timeseries_data[end_ix]\n",
    "        X.append(seq_x)\n",
    "        y.append(seq_y)\n",
    "    return np.array(X), np.array(y)"
   ]
  },
  {
   "cell_type": "code",
   "execution_count": 39,
   "metadata": {
    "ExecuteTime": {
     "end_time": "2021-06-15T07:51:20.432506Z",
     "start_time": "2021-06-15T07:51:20.247531Z"
    }
   },
   "outputs": [],
   "source": [
    "\n",
    "import numpy as np\n",
    "timeseries_data = df_india.confirmed[:-10].values\n",
    "\n",
    "# choose a number of time steps : means we will use previous 3 records to make prediction of next 1 value\n",
    "n_steps = 3\n",
    "\n",
    "# split into samples\n",
    "X, y = prepare_data(timeseries_data, n_steps)"
   ]
  },
  {
   "cell_type": "code",
   "execution_count": 40,
   "metadata": {
    "ExecuteTime": {
     "end_time": "2021-06-15T07:51:20.571709Z",
     "start_time": "2021-06-15T07:51:20.435045Z"
    }
   },
   "outputs": [
    {
     "name": "stdout",
     "output_type": "stream",
     "text": [
      "our initial data :  [       0        0        0        0        0        0        0        0\n",
      "        1        1        1        2        3        3        3        3\n",
      "        3        3        3        3        3        3        3        3\n",
      "        3        3        3        3        3        3        3        3\n",
      "        3        3        3        3        3        3        3        3\n",
      "        5        5       28       30       31       34       39       43\n",
      "       56       62       73       82      102      113      119      142\n",
      "      156      194      244      330      396      499      536      657\n",
      "      727      887      987     1024     1251     1397     1998     2543\n",
      "     2567     3082     3588     4778     5311     5916     6725     7598\n",
      "     8446     9205    10453    11487    12322    13430    14352    15722\n",
      "    17615    18539    20080    21370    23077    24530    26283    27890\n",
      "    29451    31324    33062    34863    37257    39699    42505    46437\n",
      "    49400    52987    56351    59695    62808    67161    70768    74292\n",
      "    78055    81997    85784    90648    95698   100328   106475   112028\n",
      "   118226   124794   131423   138536   144950   150793   158086   165386\n",
      "   173491   181827   190609   198370   207191   216824   226713   236184\n",
      "   246622   257486   265928   276146   286605   297535   308993   320922\n",
      "   332424   343091   354065   366946   380532   395048   410451   425282\n",
      "   440215   456183   473105   490401   508953   528859   548318   566840\n",
      "   585481   604641   625544   648315   673165   697413   719664   742417\n",
      "   767296   793802   820916   849522   878254   906752   936181   968857\n",
      "  1003832  1039084  1077781  1118206  1155338  1193078  1238798  1288108\n",
      "  1337024  1385635  1435616  1480073  1531669  1581963  1634746  1695988\n",
      "  1750723  1803695  1855745  1908254  1964536  2027074  2088611  2153010\n",
      "  2215074  2268675  2329638  2396637  2461190  2525922  2589952  2647663\n",
      "  2702681  2767253  2836925  2905825  2975701  3044940  3106348  3167323\n",
      "  3224547  3310234  3387500  3463972  3542733  3621245  3691166  3769523\n",
      "  3853406  3936747  4023179  4113811  4204613  4280422  4370128  4465863\n",
      "  4562414  4659984  4754356  4846427  4930236  5020359  5118253  5214677\n",
      "  5308014  5400619  5487580  5562663  5646010  5732518  5818570  5903932\n",
      "  5992532  6074702  6145291  6225763  6312584  6394068  6473544  6549373\n",
      "  6623815  6685082  6757131  6835655  6906151  6979423  7053806  7120538\n",
      "  7175880  7239389  7307097  7370468  7432680  7494551  7550273  7597063\n",
      "  7651107  7706946  7761312  7814682  7864811  7909959  7946429  7990322\n",
      "  8040203  8088851  8137119  8184082  8229313  8267623  8313876  8364086\n",
      "  8411724  8462080  8507754  8553657  8591730  8636011  8683916  8728795\n",
      "  8773479  8814579  8845127  8874290  8912907  8958483  9004365  9050597\n",
      "  9095806  9139865  9177840  9222216  9266705  9309787  9351109  9392919\n",
      "  9431691  9462809  9499413  9534964  9571559  9608211  9644222  9677203\n",
      "  9703770  9735850  9767371  9796744  9826775  9857029  9884100  9906165\n",
      "  9932547  9956557  9979447 10004599 10031223 10055560 10075116 10099066\n",
      " 10123778 10146845 10169118 10187850 10207871 10224303 10244852 10266674\n",
      " 10266674 10286709 10323965 10340469 10356844 10374932 10395278 10413417\n",
      " 10413417 10450284 10466595 10479179 10495147 10512093 10527683 10542841\n",
      " 10557985 10571773 10581823 10595639 10610883 10625428 10639684 10654533\n",
      " 10667736 10676838 10689527 10701193 10720048 10733130 10746174 10757610\n",
      " 10766245 10777284 10790183 10802591 10814304 10826363 10838194 10847304\n",
      " 10858371 10871294 10880603 10892746 10904940 10916589 10925710 10937320\n",
      " 10950201 10963394 10977387 10991651 11005850 11016434 11030176 11046914\n",
      " 11063491 11079979 11096731 11112241 11124527 11139516 11156923 11173761\n",
      " 11192045 11210799 11229398 11244786 11262707 11285561 11308846 11333728\n",
      " 11359048 11385339 11409831 11438734 11474605 11514331 11555284 11599130\n",
      " 11646081 11686796 11734058 11787534 11846652 11908910 11971624 12039644\n",
      " 12095855 12149335 12221665 12303131 12392260 12485509 12589067] \n",
      "\n",
      "Initial data transformed :\n",
      "Inputs\n",
      " [[       0        0        0]\n",
      " [       0        0        0]\n",
      " [       0        0        0]\n",
      " ...\n",
      " [12149335 12221665 12303131]\n",
      " [12221665 12303131 12392260]\n",
      " [12303131 12392260 12485509]]\n",
      "Target [       0        0        0        0        0        1        1        1\n",
      "        2        3        3        3        3        3        3        3\n",
      "        3        3        3        3        3        3        3        3\n",
      "        3        3        3        3        3        3        3        3\n",
      "        3        3        3        3        3        5        5       28\n",
      "       30       31       34       39       43       56       62       73\n",
      "       82      102      113      119      142      156      194      244\n",
      "      330      396      499      536      657      727      887      987\n",
      "     1024     1251     1397     1998     2543     2567     3082     3588\n",
      "     4778     5311     5916     6725     7598     8446     9205    10453\n",
      "    11487    12322    13430    14352    15722    17615    18539    20080\n",
      "    21370    23077    24530    26283    27890    29451    31324    33062\n",
      "    34863    37257    39699    42505    46437    49400    52987    56351\n",
      "    59695    62808    67161    70768    74292    78055    81997    85784\n",
      "    90648    95698   100328   106475   112028   118226   124794   131423\n",
      "   138536   144950   150793   158086   165386   173491   181827   190609\n",
      "   198370   207191   216824   226713   236184   246622   257486   265928\n",
      "   276146   286605   297535   308993   320922   332424   343091   354065\n",
      "   366946   380532   395048   410451   425282   440215   456183   473105\n",
      "   490401   508953   528859   548318   566840   585481   604641   625544\n",
      "   648315   673165   697413   719664   742417   767296   793802   820916\n",
      "   849522   878254   906752   936181   968857  1003832  1039084  1077781\n",
      "  1118206  1155338  1193078  1238798  1288108  1337024  1385635  1435616\n",
      "  1480073  1531669  1581963  1634746  1695988  1750723  1803695  1855745\n",
      "  1908254  1964536  2027074  2088611  2153010  2215074  2268675  2329638\n",
      "  2396637  2461190  2525922  2589952  2647663  2702681  2767253  2836925\n",
      "  2905825  2975701  3044940  3106348  3167323  3224547  3310234  3387500\n",
      "  3463972  3542733  3621245  3691166  3769523  3853406  3936747  4023179\n",
      "  4113811  4204613  4280422  4370128  4465863  4562414  4659984  4754356\n",
      "  4846427  4930236  5020359  5118253  5214677  5308014  5400619  5487580\n",
      "  5562663  5646010  5732518  5818570  5903932  5992532  6074702  6145291\n",
      "  6225763  6312584  6394068  6473544  6549373  6623815  6685082  6757131\n",
      "  6835655  6906151  6979423  7053806  7120538  7175880  7239389  7307097\n",
      "  7370468  7432680  7494551  7550273  7597063  7651107  7706946  7761312\n",
      "  7814682  7864811  7909959  7946429  7990322  8040203  8088851  8137119\n",
      "  8184082  8229313  8267623  8313876  8364086  8411724  8462080  8507754\n",
      "  8553657  8591730  8636011  8683916  8728795  8773479  8814579  8845127\n",
      "  8874290  8912907  8958483  9004365  9050597  9095806  9139865  9177840\n",
      "  9222216  9266705  9309787  9351109  9392919  9431691  9462809  9499413\n",
      "  9534964  9571559  9608211  9644222  9677203  9703770  9735850  9767371\n",
      "  9796744  9826775  9857029  9884100  9906165  9932547  9956557  9979447\n",
      " 10004599 10031223 10055560 10075116 10099066 10123778 10146845 10169118\n",
      " 10187850 10207871 10224303 10244852 10266674 10266674 10286709 10323965\n",
      " 10340469 10356844 10374932 10395278 10413417 10413417 10450284 10466595\n",
      " 10479179 10495147 10512093 10527683 10542841 10557985 10571773 10581823\n",
      " 10595639 10610883 10625428 10639684 10654533 10667736 10676838 10689527\n",
      " 10701193 10720048 10733130 10746174 10757610 10766245 10777284 10790183\n",
      " 10802591 10814304 10826363 10838194 10847304 10858371 10871294 10880603\n",
      " 10892746 10904940 10916589 10925710 10937320 10950201 10963394 10977387\n",
      " 10991651 11005850 11016434 11030176 11046914 11063491 11079979 11096731\n",
      " 11112241 11124527 11139516 11156923 11173761 11192045 11210799 11229398\n",
      " 11244786 11262707 11285561 11308846 11333728 11359048 11385339 11409831\n",
      " 11438734 11474605 11514331 11555284 11599130 11646081 11686796 11734058\n",
      " 11787534 11846652 11908910 11971624 12039644 12095855 12149335 12221665\n",
      " 12303131 12392260 12485509 12589067]\n",
      "(436, 3)\n",
      "(436,)\n"
     ]
    }
   ],
   "source": [
    "print('our initial data : ',timeseries_data,'\\n')\n",
    "\n",
    "print('Initial data transformed :')\n",
    "print('Inputs\\n',X)\n",
    "print('Target',y)\n",
    "print(X.shape)\n",
    "print(y.shape)"
   ]
  },
  {
   "cell_type": "code",
   "execution_count": 41,
   "metadata": {
    "ExecuteTime": {
     "end_time": "2021-06-15T07:51:20.708847Z",
     "start_time": "2021-06-15T07:51:20.574439Z"
    }
   },
   "outputs": [
    {
     "name": "stdout",
     "output_type": "stream",
     "text": [
      "Size of training data (436, 3)\n"
     ]
    }
   ],
   "source": [
    "print('Size of training data',(X.shape))"
   ]
  },
  {
   "cell_type": "code",
   "execution_count": 42,
   "metadata": {
    "ExecuteTime": {
     "end_time": "2021-06-15T07:51:20.841476Z",
     "start_time": "2021-06-15T07:51:20.711113Z"
    }
   },
   "outputs": [],
   "source": [
    "# reshape from [samples, timesteps] into [samples, timesteps, features]\n",
    "n_features = 1\n",
    "X = X.reshape((X.shape[0], X.shape[1], n_features))"
   ]
  },
  {
   "cell_type": "code",
   "execution_count": 43,
   "metadata": {
    "ExecuteTime": {
     "end_time": "2021-06-15T07:51:20.965603Z",
     "start_time": "2021-06-15T07:51:20.847473Z"
    }
   },
   "outputs": [
    {
     "name": "stdout",
     "output_type": "stream",
     "text": [
      "[[[       0]\n",
      "  [       0]\n",
      "  [       0]]\n",
      "\n",
      " [[       0]\n",
      "  [       0]\n",
      "  [       0]]\n",
      "\n",
      " [[       0]\n",
      "  [       0]\n",
      "  [       0]]\n",
      "\n",
      " ...\n",
      "\n",
      " [[12149335]\n",
      "  [12221665]\n",
      "  [12303131]]\n",
      "\n",
      " [[12221665]\n",
      "  [12303131]\n",
      "  [12392260]]\n",
      "\n",
      " [[12303131]\n",
      "  [12392260]\n",
      "  [12485509]]]\n",
      "<class 'numpy.ndarray'>\n",
      "<class 'numpy.ndarray'>\n"
     ]
    }
   ],
   "source": [
    "print(X)\n",
    "print(type(X))\n",
    "print(type(y))"
   ]
  },
  {
   "cell_type": "code",
   "execution_count": 44,
   "metadata": {
    "ExecuteTime": {
     "end_time": "2021-06-15T07:51:33.590108Z",
     "start_time": "2021-06-15T07:51:20.969838Z"
    },
    "scrolled": false
   },
   "outputs": [
    {
     "name": "stdout",
     "output_type": "stream",
     "text": [
      "Epoch 1/100\n",
      "14/14 [==============================] - 3s 7ms/step - loss: 42248146255872.0000\n",
      "Epoch 2/100\n",
      "14/14 [==============================] - 0s 6ms/step - loss: 29344722321408.0000\n",
      "Epoch 3/100\n",
      "14/14 [==============================] - 0s 6ms/step - loss: 2510207320064.0000\n",
      "Epoch 4/100\n",
      "14/14 [==============================] - 0s 6ms/step - loss: 1479097057280.0000\n",
      "Epoch 5/100\n",
      "14/14 [==============================] - 0s 5ms/step - loss: 7690231218176.0000\n",
      "Epoch 6/100\n",
      "14/14 [==============================] - 0s 6ms/step - loss: 2268206727168.0000\n",
      "Epoch 7/100\n",
      "14/14 [==============================] - 0s 6ms/step - loss: 1779259277312.0000\n",
      "Epoch 8/100\n",
      "14/14 [==============================] - 0s 6ms/step - loss: 333910999040.0000\n",
      "Epoch 9/100\n",
      "14/14 [==============================] - 0s 6ms/step - loss: 39862616064.0000\n",
      "Epoch 10/100\n",
      "14/14 [==============================] - 0s 6ms/step - loss: 25376266240.0000\n",
      "Epoch 11/100\n",
      "14/14 [==============================] - 0s 6ms/step - loss: 7957268480.0000\n",
      "Epoch 12/100\n",
      "14/14 [==============================] - 0s 6ms/step - loss: 10513687552.0000\n",
      "Epoch 13/100\n",
      "14/14 [==============================] - 0s 6ms/step - loss: 23539111936.0000\n",
      "Epoch 14/100\n",
      "14/14 [==============================] - 0s 6ms/step - loss: 20696930304.0000\n",
      "Epoch 15/100\n",
      "14/14 [==============================] - 0s 6ms/step - loss: 8862442496.0000\n",
      "Epoch 16/100\n",
      "14/14 [==============================] - 0s 6ms/step - loss: 37214343168.0000\n",
      "Epoch 17/100\n",
      "14/14 [==============================] - 0s 6ms/step - loss: 260031299584.0000\n",
      "Epoch 18/100\n",
      "14/14 [==============================] - 0s 7ms/step - loss: 65239011328.0000\n",
      "Epoch 19/100\n",
      "14/14 [==============================] - 0s 6ms/step - loss: 12480336896.0000\n",
      "Epoch 20/100\n",
      "14/14 [==============================] - 0s 7ms/step - loss: 6177760768.0000\n",
      "Epoch 21/100\n",
      "14/14 [==============================] - 0s 6ms/step - loss: 5138909184.0000\n",
      "Epoch 22/100\n",
      "14/14 [==============================] - 0s 6ms/step - loss: 4795177472.0000\n",
      "Epoch 23/100\n",
      "14/14 [==============================] - 0s 11ms/step - loss: 4748386816.0000\n",
      "Epoch 24/100\n",
      "14/14 [==============================] - 0s 8ms/step - loss: 4906896896.0000\n",
      "Epoch 25/100\n",
      "14/14 [==============================] - 0s 7ms/step - loss: 4746824704.0000\n",
      "Epoch 26/100\n",
      "14/14 [==============================] - 0s 6ms/step - loss: 4709059072.0000\n",
      "Epoch 27/100\n",
      "14/14 [==============================] - 0s 5ms/step - loss: 4754023424.0000\n",
      "Epoch 28/100\n",
      "14/14 [==============================] - 0s 5ms/step - loss: 441565347840.0000\n",
      "Epoch 29/100\n",
      "14/14 [==============================] - 0s 6ms/step - loss: 38463549440.0000\n",
      "Epoch 30/100\n",
      "14/14 [==============================] - 0s 6ms/step - loss: 11970646016.0000\n",
      "Epoch 31/100\n",
      "14/14 [==============================] - 0s 6ms/step - loss: 6879828992.0000\n",
      "Epoch 32/100\n",
      "14/14 [==============================] - 0s 6ms/step - loss: 5070418944.0000\n",
      "Epoch 33/100\n",
      "14/14 [==============================] - 0s 6ms/step - loss: 4787008000.0000\n",
      "Epoch 34/100\n",
      "14/14 [==============================] - 0s 6ms/step - loss: 4897823744.0000\n",
      "Epoch 35/100\n",
      "14/14 [==============================] - 0s 6ms/step - loss: 5001152512.0000\n",
      "Epoch 36/100\n",
      "14/14 [==============================] - 0s 7ms/step - loss: 5327460352.0000\n",
      "Epoch 37/100\n",
      "14/14 [==============================] - 0s 6ms/step - loss: 5086295040.0000\n",
      "Epoch 38/100\n",
      "14/14 [==============================] - 0s 6ms/step - loss: 5322365952.0000\n",
      "Epoch 39/100\n",
      "14/14 [==============================] - 0s 6ms/step - loss: 5290813952.0000\n",
      "Epoch 40/100\n",
      "14/14 [==============================] - 0s 6ms/step - loss: 5027976192.0000\n",
      "Epoch 41/100\n",
      "14/14 [==============================] - 0s 6ms/step - loss: 4837195264.0000\n",
      "Epoch 42/100\n",
      "14/14 [==============================] - 0s 7ms/step - loss: 5835050496.0000\n",
      "Epoch 43/100\n",
      "14/14 [==============================] - 0s 7ms/step - loss: 5113706496.0000\n",
      "Epoch 44/100\n",
      "14/14 [==============================] - 0s 7ms/step - loss: 5606321664.0000\n",
      "Epoch 45/100\n",
      "14/14 [==============================] - 0s 7ms/step - loss: 5097156096.0000\n",
      "Epoch 46/100\n",
      "14/14 [==============================] - 0s 7ms/step - loss: 181522595840.0000\n",
      "Epoch 47/100\n",
      "14/14 [==============================] - 0s 7ms/step - loss: 61546172416.0000\n",
      "Epoch 48/100\n",
      "14/14 [==============================] - 0s 6ms/step - loss: 71761428480.0000\n",
      "Epoch 49/100\n",
      "14/14 [==============================] - 0s 5ms/step - loss: 34626138112.0000\n",
      "Epoch 50/100\n",
      "14/14 [==============================] - 0s 6ms/step - loss: 11127952384.0000\n",
      "Epoch 51/100\n",
      "14/14 [==============================] - 0s 6ms/step - loss: 26540857344.0000\n",
      "Epoch 52/100\n",
      "14/14 [==============================] - 0s 6ms/step - loss: 23513569280.0000\n",
      "Epoch 53/100\n",
      "14/14 [==============================] - 0s 6ms/step - loss: 10505452544.0000\n",
      "Epoch 54/100\n",
      "14/14 [==============================] - 0s 6ms/step - loss: 6545010688.0000\n",
      "Epoch 55/100\n",
      "14/14 [==============================] - 0s 6ms/step - loss: 5598407168.0000\n",
      "Epoch 56/100\n",
      "14/14 [==============================] - 0s 6ms/step - loss: 5303997440.0000\n",
      "Epoch 57/100\n",
      "14/14 [==============================] - 0s 6ms/step - loss: 5349280768.0000\n",
      "Epoch 58/100\n",
      "14/14 [==============================] - 0s 6ms/step - loss: 136294940672.0000\n",
      "Epoch 59/100\n",
      "14/14 [==============================] - 0s 6ms/step - loss: 33542115328.0000\n",
      "Epoch 60/100\n",
      "14/14 [==============================] - 0s 6ms/step - loss: 8528074240.0000\n",
      "Epoch 61/100\n",
      "14/14 [==============================] - 0s 6ms/step - loss: 6436490240.0000\n",
      "Epoch 62/100\n",
      "14/14 [==============================] - 0s 6ms/step - loss: 5079244288.0000\n",
      "Epoch 63/100\n",
      "14/14 [==============================] - 0s 6ms/step - loss: 5233936896.0000\n",
      "Epoch 64/100\n",
      "14/14 [==============================] - 0s 7ms/step - loss: 5021485056.0000\n",
      "Epoch 65/100\n",
      "14/14 [==============================] - 0s 6ms/step - loss: 5359438336.0000\n",
      "Epoch 66/100\n",
      "14/14 [==============================] - 0s 6ms/step - loss: 4977325056.0000\n",
      "Epoch 67/100\n",
      "14/14 [==============================] - 0s 6ms/step - loss: 5057817088.0000\n",
      "Epoch 68/100\n",
      "14/14 [==============================] - 0s 6ms/step - loss: 5209241600.0000\n",
      "Epoch 69/100\n",
      "14/14 [==============================] - 0s 7ms/step - loss: 5188889600.0000\n",
      "Epoch 70/100\n",
      "14/14 [==============================] - 0s 7ms/step - loss: 5189213696.0000\n",
      "Epoch 71/100\n",
      "14/14 [==============================] - 0s 6ms/step - loss: 5113375232.0000\n",
      "Epoch 72/100\n",
      "14/14 [==============================] - 0s 6ms/step - loss: 5339411456.0000\n",
      "Epoch 73/100\n",
      "14/14 [==============================] - 0s 6ms/step - loss: 4999307776.0000\n",
      "Epoch 74/100\n",
      "14/14 [==============================] - 0s 6ms/step - loss: 23346583552.0000\n",
      "Epoch 75/100\n",
      "14/14 [==============================] - 0s 7ms/step - loss: 8222647296.0000\n",
      "Epoch 76/100\n",
      "14/14 [==============================] - 0s 6ms/step - loss: 6901118976.0000\n",
      "Epoch 77/100\n",
      "14/14 [==============================] - 0s 6ms/step - loss: 5101654016.0000\n",
      "Epoch 78/100\n",
      "14/14 [==============================] - 0s 7ms/step - loss: 5335714304.0000\n",
      "Epoch 79/100\n",
      "14/14 [==============================] - 0s 7ms/step - loss: 5055191040.0000\n",
      "Epoch 80/100\n",
      "14/14 [==============================] - 0s 6ms/step - loss: 4975690240.0000\n",
      "Epoch 81/100\n",
      "14/14 [==============================] - 0s 7ms/step - loss: 5197442048.0000\n",
      "Epoch 82/100\n",
      "14/14 [==============================] - 0s 7ms/step - loss: 5022024704.0000\n",
      "Epoch 83/100\n",
      "14/14 [==============================] - 0s 6ms/step - loss: 4924596736.0000\n",
      "Epoch 84/100\n",
      "14/14 [==============================] - 0s 7ms/step - loss: 5009236992.0000\n",
      "Epoch 85/100\n",
      "14/14 [==============================] - 0s 7ms/step - loss: 4984427008.0000\n",
      "Epoch 86/100\n",
      "14/14 [==============================] - 0s 7ms/step - loss: 4868782592.0000\n",
      "Epoch 87/100\n",
      "14/14 [==============================] - 0s 8ms/step - loss: 5001957376.0000\n",
      "Epoch 88/100\n",
      "14/14 [==============================] - 0s 6ms/step - loss: 5237804032.0000\n",
      "Epoch 89/100\n",
      "14/14 [==============================] - 0s 6ms/step - loss: 5213764096.0000\n",
      "Epoch 90/100\n",
      "14/14 [==============================] - 0s 6ms/step - loss: 5046955008.0000\n",
      "Epoch 91/100\n"
     ]
    },
    {
     "name": "stdout",
     "output_type": "stream",
     "text": [
      "14/14 [==============================] - 0s 6ms/step - loss: 5294957056.0000\n",
      "Epoch 92/100\n",
      "14/14 [==============================] - 0s 6ms/step - loss: 5010618368.0000\n",
      "Epoch 93/100\n",
      "14/14 [==============================] - 0s 6ms/step - loss: 5099905024.0000\n",
      "Epoch 94/100\n",
      "14/14 [==============================] - 0s 6ms/step - loss: 5087639552.0000\n",
      "Epoch 95/100\n",
      "14/14 [==============================] - 0s 7ms/step - loss: 5260999680.0000\n",
      "Epoch 96/100\n",
      "14/14 [==============================] - 0s 7ms/step - loss: 5497725440.0000\n",
      "Epoch 97/100\n",
      "14/14 [==============================] - 0s 7ms/step - loss: 5345450496.0000\n",
      "Epoch 98/100\n",
      "14/14 [==============================] - 0s 6ms/step - loss: 5199964672.0000\n",
      "Epoch 99/100\n",
      "14/14 [==============================] - 0s 6ms/step - loss: 5387196416.0000\n",
      "Epoch 100/100\n",
      "14/14 [==============================] - 0s 6ms/step - loss: 5580203008.0000\n"
     ]
    },
    {
     "data": {
      "text/plain": [
       "<tensorflow.python.keras.callbacks.History at 0x7f3a5e482bb0>"
      ]
     },
     "execution_count": 44,
     "metadata": {},
     "output_type": "execute_result"
    }
   ],
   "source": [
    "# define model\n",
    "model = Sequential()\n",
    "model.add(LSTM(64, activation='relu', return_sequences=True, input_shape=(n_steps, n_features)))\n",
    "model.add(LSTM(64, activation='relu'))\n",
    "model.add(Dense(128,activation=\"relu\"))\n",
    "model.add(Dense(1))\n",
    "model.compile(optimizer='adam', loss='mse')\n",
    "# fit model\n",
    "model.fit(X, y, epochs=100, verbose=1)"
   ]
  },
  {
   "cell_type": "markdown",
   "metadata": {},
   "source": [
    "<b>Make Predictions</b>"
   ]
  },
  {
   "cell_type": "code",
   "execution_count": 45,
   "metadata": {
    "ExecuteTime": {
     "end_time": "2021-06-15T07:51:37.436636Z",
     "start_time": "2021-06-15T07:51:33.593627Z"
    },
    "scrolled": true
   },
   "outputs": [
    {
     "name": "stdout",
     "output_type": "stream",
     "text": [
      "Input for Day 1  : [13873825. 14074564. 13870204.]\n",
      "Output for Day 1 : [[14021012.]]\n",
      "Input for Day 2  : [14074564. 13870204. 14021012.]\n",
      "Output for Day 2 : [[14054262.]]\n",
      "Input for Day 3  : [13870204. 14021012. 14054262.]\n",
      "Output for Day 3 : [[14017073.]]\n",
      "Input for Day 4  : [14021012. 14054262. 14017073.]\n",
      "Output for Day 4 : [[14101406.]]\n",
      "Input for Day 5  : [14054262. 14017073. 14101406.]\n",
      "Output for Day 5 : [[14111834.]]\n",
      "Input for Day 6  : [14017073. 14101406. 14111834.]\n",
      "Output for Day 6 : [[14128444.]]\n",
      "Input for Day 7  : [14101406. 14111834. 14128444.]\n",
      "Output for Day 7 : [[14176265.]]\n",
      "Input for Day 8  : [14111834. 14128444. 14176265.]\n",
      "Output for Day 8 : [[14193180.]]\n",
      "Input for Day 9  : [14128444. 14176265. 14193180.]\n",
      "Output for Day 9 : [[14222475.]]\n",
      "Input for Day 10  : [14176265. 14193180. 14222475.]\n",
      "Output for Day 10 : [[14256122.]]\n",
      "Input for Day 11  : [14193180. 14222475. 14256122.]\n",
      "Output for Day 11 : [[14279870.]]\n",
      "Input for Day 12  : [14222475. 14256122. 14279870.]\n",
      "Output for Day 12 : [[14310471.]]\n",
      "Input for Day 13  : [14256122. 14279870. 14310471.]\n",
      "Output for Day 13 : [[14339971.]]\n",
      "Input for Day 14  : [14279870. 14310471. 14339971.]\n",
      "Output for Day 14 : [[14367204.]]\n",
      "Input for Day 15  : [14310471. 14339971. 14367204.]\n",
      "Output for Day 15 : [[14397150.]]\n",
      "Input for Day 16  : [14339971. 14367204. 14397150.]\n",
      "Output for Day 16 : [[14425925.]]\n",
      "Input for Day 17  : [14367204. 14397150. 14425925.]\n",
      "Output for Day 17 : [[14454546.]]\n",
      "Input for Day 18  : [14397150. 14425925. 14454546.]\n",
      "Output for Day 18 : [[14484028.]]\n",
      "Input for Day 19  : [14425925. 14454546. 14484028.]\n",
      "Output for Day 19 : [[14512953.]]\n",
      "Input for Day 20  : [14454546. 14484028. 14512953.]\n",
      "Output for Day 20 : [[14542090.]]\n",
      "Input for Day 21  : [14484028. 14512953. 14542090.]\n",
      "Output for Day 21 : [[14571451.]]\n",
      "Input for Day 22  : [14512953. 14542090. 14571451.]\n",
      "Output for Day 22 : [[14600646.]]\n",
      "Input for Day 23  : [14542090. 14571451. 14600646.]\n",
      "Output for Day 23 : [[14630020.]]\n",
      "Input for Day 24  : [14571451. 14600646. 14630020.]\n",
      "Output for Day 24 : [[14659460.]]\n",
      "Input for Day 25  : [14600646. 14630020. 14659460.]\n",
      "Output for Day 25 : [[14688889.]]\n",
      "Input for Day 26  : [14630020. 14659460. 14688889.]\n",
      "Output for Day 26 : [[14718439.]]\n",
      "Input for Day 27  : [14659460. 14688889. 14718439.]\n",
      "Output for Day 27 : [[14748026.]]\n",
      "Input for Day 28  : [14688889. 14718439. 14748026.]\n",
      "Output for Day 28 : [[14777662.]]\n",
      "Input for Day 29  : [14718439. 14748026. 14777662.]\n",
      "Output for Day 29 : [[14807378.]]\n",
      "Input for Day 30  : [14748026. 14777662. 14807378.]\n",
      "Output for Day 30 : [[14837139.]]\n",
      "Input for Day 31  : [14777662. 14807378. 14837139.]\n",
      "Output for Day 31 : [[14866963.]]\n",
      "Input for Day 32  : [14807378. 14837139. 14866963.]\n",
      "Output for Day 32 : [[14896853.]]\n",
      "Input for Day 33  : [14837139. 14866963. 14896853.]\n",
      "Output for Day 33 : [[14926798.]]\n",
      "Input for Day 34  : [14866963. 14896853. 14926798.]\n",
      "Output for Day 34 : [[14956803.]]\n",
      "Input for Day 35  : [14896853. 14926798. 14956803.]\n",
      "Output for Day 35 : [[14986870.]]\n",
      "Input for Day 36  : [14926798. 14956803. 14986870.]\n",
      "Output for Day 36 : [[15016998.]]\n",
      "Input for Day 37  : [14956803. 14986870. 15016998.]\n",
      "Output for Day 37 : [[15047186.]]\n",
      "Input for Day 38  : [14986870. 15016998. 15047186.]\n",
      "Output for Day 38 : [[15077431.]]\n",
      "Input for Day 39  : [15016998. 15047186. 15077431.]\n",
      "Output for Day 39 : [[15107741.]]\n",
      "Input for Day 40  : [15047186. 15077431. 15107741.]\n",
      "Output for Day 40 : [[15138110.]]\n",
      "Input for Day 41  : [15077431. 15107741. 15138110.]\n",
      "Output for Day 41 : [[15168541.]]\n",
      "Input for Day 42  : [15107741. 15138110. 15168541.]\n",
      "Output for Day 42 : [[15199032.]]\n",
      "Input for Day 43  : [15138110. 15168541. 15199032.]\n",
      "Output for Day 43 : [[15229588.]]\n",
      "Input for Day 44  : [15168541. 15199032. 15229588.]\n",
      "Output for Day 44 : [[15260200.]]\n",
      "Input for Day 45  : [15199032. 15229588. 15260200.]\n",
      "Output for Day 45 : [[15290877.]]\n",
      "Input for Day 46  : [15229588. 15260200. 15290877.]\n",
      "Output for Day 46 : [[15321614.]]\n",
      "Input for Day 47  : [15260200. 15290877. 15321614.]\n",
      "Output for Day 47 : [[15352415.]]\n",
      "Input for Day 48  : [15290877. 15321614. 15352415.]\n",
      "Output for Day 48 : [[15383276.]]\n",
      "Input for Day 49  : [15321614. 15352415. 15383276.]\n",
      "Output for Day 49 : [[15414200.]]\n",
      "Forecast for 10 Days [13870204.0, 14021012.0, 14054262.0, 14017073.0, 14101406.0, 14111834.0, 14128444.0, 14176265.0, 14193180.0, 14222475.0, 14256122.0, 14279870.0, 14310471.0, 14339971.0, 14367204.0, 14397150.0, 14425925.0, 14454546.0, 14484028.0, 14512953.0, 14542090.0, 14571451.0, 14600646.0, 14630020.0, 14659460.0, 14688889.0, 14718439.0, 14748026.0, 14777662.0, 14807378.0, 14837139.0, 14866963.0, 14896853.0, 14926798.0, 14956803.0, 14986870.0, 15016998.0, 15047186.0, 15077431.0, 15107741.0, 15138110.0, 15168541.0, 15199032.0, 15229588.0, 15260200.0, 15290877.0, 15321614.0, 15352415.0, 15383276.0, 15414200.0]\n"
     ]
    }
   ],
   "source": [
    "# demonstrate prediction for next 10 days\n",
    "x_input = np.array(df_india.confirmed[-3:].values)\n",
    "\n",
    "temp_input=list(x_input)\n",
    "\n",
    "\n",
    "lst_output=[]\n",
    "i=0\n",
    "while(i<50):\n",
    "    if(len(temp_input)>3):\n",
    "        \n",
    "        x_input=np.array(temp_input[1:])\n",
    "        print(\"Input for Day {}  : {}\".format(i,x_input))\n",
    "        \n",
    "        x_input = x_input.reshape((1, n_steps, n_features))\n",
    "        \n",
    "        yhat = model.predict(x_input, verbose=0)\n",
    "        print(\"Output for Day {} : {}\".format(i,yhat))\n",
    "        temp_input.append(yhat[0][0])\n",
    "        temp_input=temp_input[1:]\n",
    "        \n",
    "        lst_output.append(yhat[0][0])\n",
    "        i=i+1\n",
    "    else:\n",
    "        x_input = x_input.reshape((1, n_steps, n_features))\n",
    "        yhat = model.predict(x_input, verbose=0)\n",
    "        temp_input.append(yhat[0][0])\n",
    "        lst_output.append(yhat[0][0])\n",
    "        i=i+1\n",
    "    \n",
    "print('Forecast for next 10 Days',lst_output)"
   ]
  },
  {
   "cell_type": "markdown",
   "metadata": {},
   "source": [
    "<b>Lets plot graph for time series forecasting</b>"
   ]
  },
  {
   "cell_type": "code",
   "execution_count": 46,
   "metadata": {
    "ExecuteTime": {
     "end_time": "2021-06-15T07:51:37.447620Z",
     "start_time": "2021-06-15T07:51:37.439935Z"
    }
   },
   "outputs": [],
   "source": [
    "# prepare x coordinates\n",
    "day_till_now=np.arange(0,449)\n",
    "day_pred=np.arange(449,499)"
   ]
  },
  {
   "cell_type": "code",
   "execution_count": 49,
   "metadata": {
    "ExecuteTime": {
     "end_time": "2021-06-15T07:57:01.883209Z",
     "start_time": "2021-06-15T07:57:01.654177Z"
    }
   },
   "outputs": [
    {
     "data": {
      "image/png": "[encoded data removed]",
      "text/plain": [
       "<Figure size 1080x576 with 1 Axes>"
      ]
     },
     "metadata": {
      "needs_background": "light"
     },
     "output_type": "display_data"
    }
   ],
   "source": [
    "plt.figure(figsize=(15,8))\n",
    "plt.plot(day_till_now,df_india.confirmed, label = 'cases till now')\n",
    "plt.plot(day_pred,lst_output, color = 'red', label = 'forecast for next 10 days', lw = 4)\n",
    "plt.legend(fontsize = 14)\n",
    "plt.title('Confirmed cases till now and forecast', fontsize = 18)\n",
    "plt.xlabel('Day' ,fontsize = 12)\n",
    "plt.ylabel('Confirmed cases' ,fontsize = 12)\n",
    "plt.show()"
   ]
  },
  {
   "cell_type": "markdown",
   "metadata": {},
   "source": [
    "The Forecast of confirmed cases for next 10 days( red line )"
   ]
  },
  {
   "cell_type": "code",
   "execution_count": null,
   "metadata": {},
   "outputs": [],
   "source": []
  }
 ],
 "metadata": {
  "kernelspec": {
   "display_name": "Python 3",
   "language": "python",
   "name": "python3"
  },
  "language_info": {
   "codemirror_mode": {
    "name": "ipython",
    "version": 3
   },
   "file_extension": ".py",
   "mimetype": "text/x-python",
   "name": "python",
   "nbconvert_exporter": "python",
   "pygments_lexer": "ipython3",
   "version": "3.8.5"
  },
  "varInspector": {
   "cols": {
    "lenName": 16,
    "lenType": 16,
    "lenVar": 40
   },
   "kernels_config": {
    "python": {
     "delete_cmd_postfix": "",
     "delete_cmd_prefix": "del ",
     "library": "var_list.py",
     "varRefreshCmd": "print(var_dic_list())"
    },
    "r": {
     "delete_cmd_postfix": ") ",
     "delete_cmd_prefix": "rm(",
     "library": "var_list.r",
     "varRefreshCmd": "cat(var_dic_list()) "
    }
   },
   "types_to_exclude": [
    "module",
    "function",
    "builtin_function_or_method",
    "instance",
    "_Feature"
   ],
   "window_display": false
  }
 },
 "nbformat": 4,
 "nbformat_minor": 4
}
